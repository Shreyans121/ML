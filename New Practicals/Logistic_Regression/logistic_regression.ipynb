{
 "cells": [
  {
   "cell_type": "code",
   "execution_count": 1,
   "metadata": {},
   "outputs": [],
   "source": [
    "import numpy as np\n",
    "import matplotlib.pyplot as plt\n",
    "import pandas as pd"
   ]
  },
  {
   "cell_type": "code",
   "execution_count": 2,
   "metadata": {},
   "outputs": [],
   "source": [
    "x_train = pd.read_csv(\"Diabetes_XTrain.csv\")\n",
    "y_train = pd.read_csv(\"Diabetes_YTrain.csv\")\n",
    "x_test = pd.read_csv(\"Diabetes_Xtest.csv\")"
   ]
  },
  {
   "cell_type": "code",
   "execution_count": 3,
   "metadata": {},
   "outputs": [
    {
     "data": {
      "text/plain": [
       "((576, 8), (576, 1), (192, 8))"
      ]
     },
     "execution_count": 3,
     "metadata": {},
     "output_type": "execute_result"
    }
   ],
   "source": [
    "x_train.shape,y_train.shape,x_test.shape"
   ]
  },
  {
   "cell_type": "code",
   "execution_count": 4,
   "metadata": {},
   "outputs": [],
   "source": [
    "x = x_train.values\n",
    "y = y_train.values\n",
    "xt = x_test.values"
   ]
  },
  {
   "cell_type": "code",
   "execution_count": 5,
   "metadata": {},
   "outputs": [],
   "source": [
    "u = x.mean(axis=0)\n",
    "std = x.std(axis=0)\n",
    "x = (x-u)/std\n",
    "xt = (xt-u)/std"
   ]
  },
  {
   "cell_type": "code",
   "execution_count": 6,
   "metadata": {},
   "outputs": [],
   "source": [
    "def sigmoid(z):\n",
    "    return 1.0/(1 + np.exp(-z))\n",
    "\n",
    "def hypothesis(X,theta):\n",
    "    return sigmoid(np.dot(X,theta))\n",
    "\n",
    "def error(X,y,theta):\n",
    "    hi = hypothesis(X,theta)\n",
    "    e = -1.0 * np.mean((y*np.log(hi)) + ((1-y)*np.log(1-hi)))\n",
    "    return e\n",
    "\n",
    "def gradient(X,y,theta):\n",
    "    hi = hypothesis(X,theta)\n",
    "    grad = np.dot(X.T,(hi-y))\n",
    "    return grad/X.shape[0]\n",
    "\n",
    "def gradient_descent(X,y,lr=0.5,epochs=300):\n",
    "    n = X.shape[1]\n",
    "    theta = np.zeros((n,1))\n",
    "    error_list = []\n",
    "    for i in range(epochs):\n",
    "        err = error(X,y,theta)\n",
    "        error_list.append(err)\n",
    "        grad = gradient(X,y,theta)\n",
    "        theta = theta - lr*grad\n",
    "    return theta, error_list"
   ]
  },
  {
   "cell_type": "code",
   "execution_count": 7,
   "metadata": {},
   "outputs": [],
   "source": [
    "ones = np.ones((x.shape[0],1))\n",
    "x_ntrain = np.hstack((ones,x))\n",
    "Y_train = y.reshape((-1,1))"
   ]
  },
  {
   "cell_type": "code",
   "execution_count": 8,
   "metadata": {},
   "outputs": [],
   "source": [
    "theta,error_list = gradient_descent(x_ntrain,Y_train)"
   ]
  },
  {
   "cell_type": "code",
   "execution_count": 9,
   "metadata": {},
   "outputs": [
    {
     "data": {
      "image/png": "[encoded data removed]",
      "text/plain": [
       "<Figure size 576x396 with 1 Axes>"
      ]
     },
     "metadata": {},
     "output_type": "display_data"
    }
   ],
   "source": [
    "plt.style.use('seaborn')\n",
    "plt.plot(error_list)\n",
    "plt.show()"
   ]
  },
  {
   "cell_type": "code",
   "execution_count": 10,
   "metadata": {},
   "outputs": [],
   "source": [
    "def predict(X,theta):\n",
    "    h = hypothesis(X,theta)\n",
    "    output = np.zeros(h.shape)\n",
    "    output[h>=0.5] = 1\n",
    "    #print(output[:5:])\n",
    "    output = output.astype('int')\n",
    "    return output\n",
    "XT_pred = predict(x_ntrain,theta)"
   ]
  },
  {
   "cell_type": "code",
   "execution_count": null,
   "metadata": {},
   "outputs": [],
   "source": []
  }
 ],
 "metadata": {
  "interpreter": {
   "hash": "66089b8846fb2b1ce4d133ea1ca5583b4894b9236ac1532920f23c52431036a5"
  },
  "kernelspec": {
   "display_name": "Python 3.7.5 64-bit",
   "language": "python",
   "name": "python3"
  },
  "language_info": {
   "codemirror_mode": {
    "name": "ipython",
    "version": 3
   },
   "file_extension": ".py",
   "mimetype": "text/x-python",
   "name": "python",
   "nbconvert_exporter": "python",
   "pygments_lexer": "ipython3",
   "version": "3.7.5"
  },
  "orig_nbformat": 4
 },
 "nbformat": 4,
 "nbformat_minor": 2
}
