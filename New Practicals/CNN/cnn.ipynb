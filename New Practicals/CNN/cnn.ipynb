{
 "cells": [
  {
   "cell_type": "code",
   "execution_count": 2,
   "metadata": {},
   "outputs": [],
   "source": [
    "from keras.layers import *\n",
    "from keras.models import Sequential"
   ]
  },
  {
   "cell_type": "code",
   "execution_count": 3,
   "metadata": {},
   "outputs": [
    {
     "name": "stdout",
     "output_type": "stream",
     "text": [
      "Model: \"sequential\"\n",
      "_________________________________________________________________\n",
      "Layer (type)                 Output Shape              Param #   \n",
      "=================================================================\n",
      "conv2d (Conv2D)              (None, 26, 26, 32)        320       \n",
      "_________________________________________________________________\n",
      "max_pooling2d (MaxPooling2D) (None, 13, 13, 32)        0         \n",
      "_________________________________________________________________\n",
      "conv2d_1 (Conv2D)            (None, 11, 11, 64)        18496     \n",
      "_________________________________________________________________\n",
      "max_pooling2d_1 (MaxPooling2 (None, 5, 5, 64)          0         \n",
      "_________________________________________________________________\n",
      "conv2d_2 (Conv2D)            (None, 3, 3, 64)          36928     \n",
      "_________________________________________________________________\n",
      "flatten (Flatten)            (None, 576)               0         \n",
      "_________________________________________________________________\n",
      "dense (Dense)                (None, 64)                36928     \n",
      "_________________________________________________________________\n",
      "dense_1 (Dense)              (None, 10)                650       \n",
      "=================================================================\n",
      "Total params: 93,322\n",
      "Trainable params: 93,322\n",
      "Non-trainable params: 0\n",
      "_________________________________________________________________\n"
     ]
    }
   ],
   "source": [
    "model = Sequential()\n",
    "model.add(Conv2D(32,(3,3),activation='relu', input_shape=(28,28,1)))\n",
    "model.add(MaxPooling2D((2,2)))\n",
    "\n",
    "model.add(Conv2D(64,(3,3),activation='relu',))\n",
    "model.add(MaxPooling2D((2,2)))\n",
    "\n",
    "model.add(Conv2D(64,(3,3),activation='relu'))\n",
    "\n",
    "model.add(Flatten())\n",
    "model.add(Dense(64,activation='relu'))\n",
    "model.add(Dense(10,activation='softmax'))\n",
    "model.summary()"
   ]
  },
  {
   "cell_type": "code",
   "execution_count": 4,
   "metadata": {},
   "outputs": [
    {
     "name": "stdout",
     "output_type": "stream",
     "text": [
      "Downloading data from https://storage.googleapis.com/tensorflow/tf-keras-datasets/mnist.npz\n",
      "11493376/11490434 [==============================] - 10s 1us/step\n"
     ]
    }
   ],
   "source": [
    "from keras.datasets import mnist\n",
    "from keras.utils import to_categorical\n",
    "\n",
    "(X_train,Y_train),(X_test,Y_test) = mnist.load_data()"
   ]
  },
  {
   "cell_type": "code",
   "execution_count": 5,
   "metadata": {},
   "outputs": [],
   "source": [
    "def preprocessing(X,Y):\n",
    "    X = X.reshape((-1,28,28,1))\n",
    "    X = X/255.0\n",
    "    Y = to_categorical(Y)\n",
    "    return X,Y"
   ]
  },
  {
   "cell_type": "code",
   "execution_count": 6,
   "metadata": {},
   "outputs": [],
   "source": [
    "XTrain,YTrain = preprocessing(X_train,Y_train)\n",
    "XTest,YTest = preprocessing(X_test,Y_test)\n"
   ]
  },
  {
   "cell_type": "code",
   "execution_count": 7,
   "metadata": {},
   "outputs": [
    {
     "data": {
      "text/plain": [
       "(((60000, 28, 28), (60000,)), ((10000, 28, 28), (10000,)))"
      ]
     },
     "execution_count": 7,
     "metadata": {},
     "output_type": "execute_result"
    }
   ],
   "source": [
    "(X_train.shape,Y_train.shape),(X_test.shape,Y_test.shape)"
   ]
  },
  {
   "cell_type": "code",
   "execution_count": 8,
   "metadata": {},
   "outputs": [],
   "source": [
    "model.compile(optimizer='adam',loss='categorical_crossentropy',metrics=['acc'])"
   ]
  },
  {
   "cell_type": "code",
   "execution_count": 10,
   "metadata": {},
   "outputs": [
    {
     "name": "stdout",
     "output_type": "stream",
     "text": [
      "Epoch 1/20\n",
      "50/50 [==============================] - 7s 142ms/step - loss: 0.1301 - acc: 0.9600 - val_loss: 0.1077 - val_acc: 0.9679\n",
      "Epoch 2/20\n",
      "50/50 [==============================] - 7s 148ms/step - loss: 0.1083 - acc: 0.9678 - val_loss: 0.1011 - val_acc: 0.9697\n",
      "Epoch 3/20\n",
      "50/50 [==============================] - 9s 175ms/step - loss: 0.1060 - acc: 0.9663 - val_loss: 0.1230 - val_acc: 0.9626\n",
      "Epoch 4/20\n",
      "50/50 [==============================] - 11s 220ms/step - loss: 0.0889 - acc: 0.9734 - val_loss: 0.1084 - val_acc: 0.9672\n",
      "Epoch 5/20\n",
      "50/50 [==============================] - 11s 223ms/step - loss: 0.1048 - acc: 0.9700 - val_loss: 0.0925 - val_acc: 0.9712\n",
      "Epoch 6/20\n",
      "50/50 [==============================] - 8s 159ms/step - loss: 0.0869 - acc: 0.9756 - val_loss: 0.0818 - val_acc: 0.9752\n",
      "Epoch 7/20\n",
      "50/50 [==============================] - 7s 138ms/step - loss: 0.0742 - acc: 0.9756 - val_loss: 0.0755 - val_acc: 0.9774\n",
      "Epoch 8/20\n",
      "50/50 [==============================] - 6s 123ms/step - loss: 0.0772 - acc: 0.9762 - val_loss: 0.0745 - val_acc: 0.9772\n",
      "Epoch 9/20\n",
      "50/50 [==============================] - 6s 119ms/step - loss: 0.0726 - acc: 0.9753 - val_loss: 0.0756 - val_acc: 0.9769\n",
      "Epoch 10/20\n",
      "50/50 [==============================] - 6s 117ms/step - loss: 0.0591 - acc: 0.9797 - val_loss: 0.0708 - val_acc: 0.9791\n",
      "Epoch 11/20\n",
      "50/50 [==============================] - 5s 107ms/step - loss: 0.0603 - acc: 0.9800 - val_loss: 0.0655 - val_acc: 0.9794\n",
      "Epoch 12/20\n",
      "50/50 [==============================] - 5s 110ms/step - loss: 0.0589 - acc: 0.9837 - val_loss: 0.0645 - val_acc: 0.9793\n",
      "Epoch 13/20\n",
      "50/50 [==============================] - 5s 105ms/step - loss: 0.0831 - acc: 0.9728 - val_loss: 0.0650 - val_acc: 0.9800\n",
      "Epoch 14/20\n",
      "50/50 [==============================] - 5s 102ms/step - loss: 0.0585 - acc: 0.9837 - val_loss: 0.0624 - val_acc: 0.9808\n",
      "Epoch 15/20\n",
      "50/50 [==============================] - 5s 101ms/step - loss: 0.0571 - acc: 0.9809 - val_loss: 0.0613 - val_acc: 0.9821\n",
      "Epoch 16/20\n",
      "50/50 [==============================] - 5s 100ms/step - loss: 0.0470 - acc: 0.9847 - val_loss: 0.0562 - val_acc: 0.9839\n",
      "Epoch 17/20\n",
      "50/50 [==============================] - 5s 100ms/step - loss: 0.0534 - acc: 0.9837 - val_loss: 0.0553 - val_acc: 0.9833\n",
      "Epoch 18/20\n",
      "50/50 [==============================] - 4s 86ms/step - loss: 0.0596 - acc: 0.9819 - val_loss: 0.0584 - val_acc: 0.9823\n",
      "Epoch 19/20\n",
      "50/50 [==============================] - 4s 85ms/step - loss: 0.0512 - acc: 0.9850 - val_loss: 0.0583 - val_acc: 0.9826\n",
      "Epoch 20/20\n",
      "50/50 [==============================] - 4s 85ms/step - loss: 0.0455 - acc: 0.9844 - val_loss: 0.0670 - val_acc: 0.9805\n"
     ]
    }
   ],
   "source": [
    "hist = model.fit(XTrain,YTrain,batch_size=64,epochs=20,validation_split=0.2, steps_per_epoch=50)"
   ]
  },
  {
   "cell_type": "code",
   "execution_count": 11,
   "metadata": {},
   "outputs": [
    {
     "name": "stdout",
     "output_type": "stream",
     "text": [
      "313/313 [==============================] - 2s 8ms/step - loss: 0.0580 - acc: 0.9825\n"
     ]
    },
    {
     "data": {
      "text/plain": [
       "[0.05795850232243538, 0.9825000166893005]"
      ]
     },
     "execution_count": 11,
     "metadata": {},
     "output_type": "execute_result"
    }
   ],
   "source": [
    "model.evaluate(XTest,YTest)"
   ]
  },
  {
   "cell_type": "code",
   "execution_count": 14,
   "metadata": {},
   "outputs": [
    {
     "data": {
      "image/png": "[encoded data removed]",
      "text/plain": [
       "<Figure size 576x396 with 1 Axes>"
      ]
     },
     "metadata": {},
     "output_type": "display_data"
    }
   ],
   "source": [
    "import matplotlib.pyplot as plt\n",
    "\n",
    "plt.style.use('seaborn')\n",
    "plt.plot(hist.history['loss'],label = 'loss',c='blue')\n",
    "plt.plot(hist.history['val_loss'],label = 'Val_loss',c='red')\n",
    "plt.legend()\n",
    "plt.show()"
   ]
  },
  {
   "cell_type": "code",
   "execution_count": null,
   "metadata": {},
   "outputs": [],
   "source": []
  }
 ],
 "metadata": {
  "interpreter": {
   "hash": "66089b8846fb2b1ce4d133ea1ca5583b4894b9236ac1532920f23c52431036a5"
  },
  "kernelspec": {
   "display_name": "Python 3.7.5 64-bit",
   "language": "python",
   "name": "python3"
  },
  "language_info": {
   "codemirror_mode": {
    "name": "ipython",
    "version": 3
   },
   "file_extension": ".py",
   "mimetype": "text/x-python",
   "name": "python",
   "nbconvert_exporter": "python",
   "pygments_lexer": "ipython3",
   "version": "3.7.5"
  },
  "orig_nbformat": 4
 },
 "nbformat": 4,
 "nbformat_minor": 2
}
