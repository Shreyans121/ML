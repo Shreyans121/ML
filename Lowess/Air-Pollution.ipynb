{
 "metadata": {
  "language_info": {
   "codemirror_mode": {
    "name": "ipython",
    "version": 3
   },
   "file_extension": ".py",
   "mimetype": "text/x-python",
   "name": "python",
   "nbconvert_exporter": "python",
   "pygments_lexer": "ipython3",
   "version": "3.7.6-final"
  },
  "orig_nbformat": 2,
  "kernelspec": {
   "name": "python3",
   "display_name": "Python 3"
  }
 },
 "nbformat": 4,
 "nbformat_minor": 2,
 "cells": [
  {
   "cell_type": "code",
   "execution_count": 90,
   "metadata": {},
   "outputs": [],
   "source": [
    "import numpy as np\n",
    "import matplotlib.pyplot as plt \n",
    "import pandas as pd"
   ]
  },
  {
   "cell_type": "code",
   "execution_count": 91,
   "metadata": {},
   "outputs": [
    {
     "output_type": "execute_result",
     "data": {
      "text/plain": [
       "<bound method NDFrame.head of       feature_1  feature_2  feature_3  feature_4  feature_5      target\n",
       "0      0.293416  -0.945599  -0.421105   0.406816   0.525662  -82.154667\n",
       "1     -0.836084  -0.189228  -0.776403  -1.053831   0.597997  -48.897960\n",
       "2      0.236425   0.132836  -0.147723   0.699854  -0.187364   77.270371\n",
       "3      0.175312   0.143194  -0.581111  -0.122107  -1.292168   -2.988581\n",
       "4     -1.693011   0.542712  -2.798729  -0.686723   1.244077  -37.596722\n",
       "...         ...        ...        ...        ...        ...         ...\n",
       "1595  -0.274961  -0.820634  -0.757173  -0.147555  -0.307149  -80.110012\n",
       "1596  -0.076099   0.255257   0.290054   1.796036   0.340350  118.315601\n",
       "1597   1.044177  -0.899206   1.730399  -1.871057   0.442520 -107.510508\n",
       "1598  -1.269173  -0.005052   1.857669  -1.080365   0.736334  -47.341558\n",
       "1599  -1.884000  -0.849427  -1.452270   0.488613   1.459576 -115.939003\n",
       "\n",
       "[1600 rows x 6 columns]>"
      ]
     },
     "metadata": {},
     "execution_count": 91
    }
   ],
   "source": [
    "dfx = pd.read_csv('Datasets/Train.csv')\n",
    "dfx.head"
   ]
  },
  {
   "cell_type": "code",
   "execution_count": 92,
   "metadata": {},
   "outputs": [
    {
     "output_type": "execute_result",
     "data": {
      "text/plain": [
       "         feature_1    feature_2    feature_3    feature_4    feature_5  \\\n",
       "count  1600.000000  1600.000000  1600.000000  1600.000000  1600.000000   \n",
       "mean      0.004114    -0.027604    -0.044459    -0.042408     0.012005   \n",
       "std       0.997338     1.021776     1.011768     1.017189     0.978654   \n",
       "min      -3.380125    -3.314844    -3.153118    -3.250169    -2.851707   \n",
       "25%      -0.647165    -0.705030    -0.706385    -0.709504    -0.615880   \n",
       "50%      -0.000360    -0.043769    -0.041272    -0.029756    -0.013527   \n",
       "75%       0.682118     0.645442     0.639130     0.646290     0.650089   \n",
       "max       3.287205     3.438895     3.216176     2.985410     3.321770   \n",
       "\n",
       "            target  \n",
       "count  1600.000000  \n",
       "mean      0.318835  \n",
       "std     110.741562  \n",
       "min    -379.829794  \n",
       "25%     -71.897040  \n",
       "50%      -0.610665  \n",
       "75%      71.226603  \n",
       "max     337.643014  "
      ],
      "text/html": "<div>\n<style scoped>\n    .dataframe tbody tr th:only-of-type {\n        vertical-align: middle;\n    }\n\n    .dataframe tbody tr th {\n        vertical-align: top;\n    }\n\n    .dataframe thead th {\n        text-align: right;\n    }\n</style>\n<table border=\"1\" class=\"dataframe\">\n  <thead>\n    <tr style=\"text-align: right;\">\n      <th></th>\n      <th>feature_1</th>\n      <th>feature_2</th>\n      <th>feature_3</th>\n      <th>feature_4</th>\n      <th>feature_5</th>\n      <th>target</th>\n    </tr>\n  </thead>\n  <tbody>\n    <tr>\n      <th>count</th>\n      <td>1600.000000</td>\n      <td>1600.000000</td>\n      <td>1600.000000</td>\n      <td>1600.000000</td>\n      <td>1600.000000</td>\n      <td>1600.000000</td>\n    </tr>\n    <tr>\n      <th>mean</th>\n      <td>0.004114</td>\n      <td>-0.027604</td>\n      <td>-0.044459</td>\n      <td>-0.042408</td>\n      <td>0.012005</td>\n      <td>0.318835</td>\n    </tr>\n    <tr>\n      <th>std</th>\n      <td>0.997338</td>\n      <td>1.021776</td>\n      <td>1.011768</td>\n      <td>1.017189</td>\n      <td>0.978654</td>\n      <td>110.741562</td>\n    </tr>\n    <tr>\n      <th>min</th>\n      <td>-3.380125</td>\n      <td>-3.314844</td>\n      <td>-3.153118</td>\n      <td>-3.250169</td>\n      <td>-2.851707</td>\n      <td>-379.829794</td>\n    </tr>\n    <tr>\n      <th>25%</th>\n      <td>-0.647165</td>\n      <td>-0.705030</td>\n      <td>-0.706385</td>\n      <td>-0.709504</td>\n      <td>-0.615880</td>\n      <td>-71.897040</td>\n    </tr>\n    <tr>\n      <th>50%</th>\n      <td>-0.000360</td>\n      <td>-0.043769</td>\n      <td>-0.041272</td>\n      <td>-0.029756</td>\n      <td>-0.013527</td>\n      <td>-0.610665</td>\n    </tr>\n    <tr>\n      <th>75%</th>\n      <td>0.682118</td>\n      <td>0.645442</td>\n      <td>0.639130</td>\n      <td>0.646290</td>\n      <td>0.650089</td>\n      <td>71.226603</td>\n    </tr>\n    <tr>\n      <th>max</th>\n      <td>3.287205</td>\n      <td>3.438895</td>\n      <td>3.216176</td>\n      <td>2.985410</td>\n      <td>3.321770</td>\n      <td>337.643014</td>\n    </tr>\n  </tbody>\n</table>\n</div>"
     },
     "metadata": {},
     "execution_count": 92
    }
   ],
   "source": [
    "dfx.describe()"
   ]
  },
  {
   "cell_type": "code",
   "execution_count": 93,
   "metadata": {},
   "outputs": [
    {
     "output_type": "stream",
     "name": "stdout",
     "text": [
      "      feature_1  feature_2  feature_3  feature_4  feature_5\n0      0.293416  -0.945599  -0.421105   0.406816   0.525662\n1     -0.836084  -0.189228  -0.776403  -1.053831   0.597997\n2      0.236425   0.132836  -0.147723   0.699854  -0.187364\n3      0.175312   0.143194  -0.581111  -0.122107  -1.292168\n4     -1.693011   0.542712  -2.798729  -0.686723   1.244077\n...         ...        ...        ...        ...        ...\n1595  -0.274961  -0.820634  -0.757173  -0.147555  -0.307149\n1596  -0.076099   0.255257   0.290054   1.796036   0.340350\n1597   1.044177  -0.899206   1.730399  -1.871057   0.442520\n1598  -1.269173  -0.005052   1.857669  -1.080365   0.736334\n1599  -1.884000  -0.849427  -1.452270   0.488613   1.459576\n\n[1600 rows x 5 columns]\n"
     ]
    }
   ],
   "source": [
    "f = dfx.iloc[:, :-1]\n",
    "print(f)"
   ]
  },
  {
   "cell_type": "code",
   "execution_count": 94,
   "metadata": {},
   "outputs": [
    {
     "output_type": "stream",
     "name": "stdout",
     "text": [
      "<class 'numpy.ndarray'>\n<class 'numpy.ndarray'>\n"
     ]
    }
   ],
   "source": [
    "X = f.values\n",
    "Y = dfx.iloc[:, -1].values\n",
    "\n",
    "print(type(X))\n",
    "print(type(Y))"
   ]
  },
  {
   "cell_type": "code",
   "execution_count": 95,
   "metadata": {},
   "outputs": [
    {
     "output_type": "stream",
     "name": "stdout",
     "text": [
      "(1600, 5)\n(1600,)\n"
     ]
    }
   ],
   "source": [
    "print(X.shape)\n",
    "\n",
    "print(Y.shape)"
   ]
  },
  {
   "cell_type": "code",
   "execution_count": 96,
   "metadata": {},
   "outputs": [
    {
     "output_type": "execute_result",
     "data": {
      "text/plain": [
       "                 0            1            2            3            4\n",
       "count  1600.000000  1600.000000  1600.000000  1600.000000  1600.000000\n",
       "mean      0.004114    -0.027604    -0.044459    -0.042408     0.012005\n",
       "std       0.997338     1.021776     1.011768     1.017189     0.978654\n",
       "min      -3.380125    -3.314844    -3.153118    -3.250169    -2.851707\n",
       "25%      -0.647165    -0.705030    -0.706385    -0.709504    -0.615880\n",
       "50%      -0.000360    -0.043769    -0.041272    -0.029756    -0.013527\n",
       "75%       0.682118     0.645442     0.639130     0.646290     0.650089\n",
       "max       3.287205     3.438895     3.216176     2.985410     3.321770"
      ],
      "text/html": "<div>\n<style scoped>\n    .dataframe tbody tr th:only-of-type {\n        vertical-align: middle;\n    }\n\n    .dataframe tbody tr th {\n        vertical-align: top;\n    }\n\n    .dataframe thead th {\n        text-align: right;\n    }\n</style>\n<table border=\"1\" class=\"dataframe\">\n  <thead>\n    <tr style=\"text-align: right;\">\n      <th></th>\n      <th>0</th>\n      <th>1</th>\n      <th>2</th>\n      <th>3</th>\n      <th>4</th>\n    </tr>\n  </thead>\n  <tbody>\n    <tr>\n      <th>count</th>\n      <td>1600.000000</td>\n      <td>1600.000000</td>\n      <td>1600.000000</td>\n      <td>1600.000000</td>\n      <td>1600.000000</td>\n    </tr>\n    <tr>\n      <th>mean</th>\n      <td>0.004114</td>\n      <td>-0.027604</td>\n      <td>-0.044459</td>\n      <td>-0.042408</td>\n      <td>0.012005</td>\n    </tr>\n    <tr>\n      <th>std</th>\n      <td>0.997338</td>\n      <td>1.021776</td>\n      <td>1.011768</td>\n      <td>1.017189</td>\n      <td>0.978654</td>\n    </tr>\n    <tr>\n      <th>min</th>\n      <td>-3.380125</td>\n      <td>-3.314844</td>\n      <td>-3.153118</td>\n      <td>-3.250169</td>\n      <td>-2.851707</td>\n    </tr>\n    <tr>\n      <th>25%</th>\n      <td>-0.647165</td>\n      <td>-0.705030</td>\n      <td>-0.706385</td>\n      <td>-0.709504</td>\n      <td>-0.615880</td>\n    </tr>\n    <tr>\n      <th>50%</th>\n      <td>-0.000360</td>\n      <td>-0.043769</td>\n      <td>-0.041272</td>\n      <td>-0.029756</td>\n      <td>-0.013527</td>\n    </tr>\n    <tr>\n      <th>75%</th>\n      <td>0.682118</td>\n      <td>0.645442</td>\n      <td>0.639130</td>\n      <td>0.646290</td>\n      <td>0.650089</td>\n    </tr>\n    <tr>\n      <th>max</th>\n      <td>3.287205</td>\n      <td>3.438895</td>\n      <td>3.216176</td>\n      <td>2.985410</td>\n      <td>3.321770</td>\n    </tr>\n  </tbody>\n</table>\n</div>"
     },
     "metadata": {},
     "execution_count": 96
    }
   ],
   "source": [
    "pd.DataFrame(X).describe()"
   ]
  },
  {
   "source": [
    "# u = np.mean(X, axis=0)\n",
    "# std = np.mean(X, axis=0)\n",
    "# # print(u.shape, std.shape)"
   ],
   "cell_type": "code",
   "metadata": {},
   "execution_count": 97,
   "outputs": []
  },
  {
   "source": [
    "# X = (X - u)/std"
   ],
   "cell_type": "code",
   "metadata": {},
   "execution_count": 98,
   "outputs": []
  },
  {
   "source": [
    "# df = pd.DataFrame(X)\n",
    "# print(df.describe())"
   ],
   "cell_type": "code",
   "metadata": {},
   "execution_count": 99,
   "outputs": []
  },
  {
   "cell_type": "code",
   "execution_count": 100,
   "metadata": {},
   "outputs": [
    {
     "output_type": "execute_result",
     "data": {
      "text/plain": [
       "                 0            1            2            3            4\n",
       "count  1600.000000  1600.000000  1600.000000  1600.000000  1600.000000\n",
       "mean      0.004114    -0.027604    -0.044459    -0.042408     0.012005\n",
       "std       0.997338     1.021776     1.011768     1.017189     0.978654\n",
       "min      -3.380125    -3.314844    -3.153118    -3.250169    -2.851707\n",
       "25%      -0.647165    -0.705030    -0.706385    -0.709504    -0.615880\n",
       "50%      -0.000360    -0.043769    -0.041272    -0.029756    -0.013527\n",
       "75%       0.682118     0.645442     0.639130     0.646290     0.650089\n",
       "max       3.287205     3.438895     3.216176     2.985410     3.321770"
      ],
      "text/html": "<div>\n<style scoped>\n    .dataframe tbody tr th:only-of-type {\n        vertical-align: middle;\n    }\n\n    .dataframe tbody tr th {\n        vertical-align: top;\n    }\n\n    .dataframe thead th {\n        text-align: right;\n    }\n</style>\n<table border=\"1\" class=\"dataframe\">\n  <thead>\n    <tr style=\"text-align: right;\">\n      <th></th>\n      <th>0</th>\n      <th>1</th>\n      <th>2</th>\n      <th>3</th>\n      <th>4</th>\n    </tr>\n  </thead>\n  <tbody>\n    <tr>\n      <th>count</th>\n      <td>1600.000000</td>\n      <td>1600.000000</td>\n      <td>1600.000000</td>\n      <td>1600.000000</td>\n      <td>1600.000000</td>\n    </tr>\n    <tr>\n      <th>mean</th>\n      <td>0.004114</td>\n      <td>-0.027604</td>\n      <td>-0.044459</td>\n      <td>-0.042408</td>\n      <td>0.012005</td>\n    </tr>\n    <tr>\n      <th>std</th>\n      <td>0.997338</td>\n      <td>1.021776</td>\n      <td>1.011768</td>\n      <td>1.017189</td>\n      <td>0.978654</td>\n    </tr>\n    <tr>\n      <th>min</th>\n      <td>-3.380125</td>\n      <td>-3.314844</td>\n      <td>-3.153118</td>\n      <td>-3.250169</td>\n      <td>-2.851707</td>\n    </tr>\n    <tr>\n      <th>25%</th>\n      <td>-0.647165</td>\n      <td>-0.705030</td>\n      <td>-0.706385</td>\n      <td>-0.709504</td>\n      <td>-0.615880</td>\n    </tr>\n    <tr>\n      <th>50%</th>\n      <td>-0.000360</td>\n      <td>-0.043769</td>\n      <td>-0.041272</td>\n      <td>-0.029756</td>\n      <td>-0.013527</td>\n    </tr>\n    <tr>\n      <th>75%</th>\n      <td>0.682118</td>\n      <td>0.645442</td>\n      <td>0.639130</td>\n      <td>0.646290</td>\n      <td>0.650089</td>\n    </tr>\n    <tr>\n      <th>max</th>\n      <td>3.287205</td>\n      <td>3.438895</td>\n      <td>3.216176</td>\n      <td>2.985410</td>\n      <td>3.321770</td>\n    </tr>\n  </tbody>\n</table>\n</div>"
     },
     "metadata": {},
     "execution_count": 100
    }
   ],
   "source": [
    "pd.DataFrame(X).describe()"
   ]
  },
  {
   "cell_type": "code",
   "execution_count": 101,
   "metadata": {},
   "outputs": [
    {
     "output_type": "stream",
     "name": "stdout",
     "text": [
      "[[1.]\n [1.]\n [1.]\n ...\n [1.]\n [1.]\n [1.]]\n"
     ]
    }
   ],
   "source": [
    "ones = np.ones((X.shape[0], 1))\n",
    "print(ones)"
   ]
  },
  {
   "cell_type": "code",
   "execution_count": 102,
   "metadata": {},
   "outputs": [
    {
     "output_type": "stream",
     "name": "stdout",
     "text": [
      "[[ 1.          0.29341624 -0.94559871 -0.42110515  0.40681602  0.52566183]\n [ 1.         -0.83608408 -0.18922804 -0.77640262 -1.05383124  0.59799685]\n [ 1.          0.23642511  0.13283602 -0.14772298  0.69985396 -0.18736416]\n ...\n [ 1.          1.04417694 -0.89920649  1.73039905 -1.87105676  0.44251965]\n [ 1.         -1.2691729  -0.00505216  1.85766873 -1.08036482  0.73633394]\n [ 1.         -1.88400025 -0.84942743 -1.45227035  0.48861308  1.4595758 ]]\n"
     ]
    }
   ],
   "source": [
    "X_ = np.hstack((ones, X))\n",
    "print(X_)"
   ]
  },
  {
   "cell_type": "code",
   "execution_count": 103,
   "metadata": {},
   "outputs": [],
   "source": [
    "def hypothesis(X,theta):\n",
    "    return np.dot(X,theta)\n",
    "\n",
    "def error(X,y,theta):\n",
    "    e = 0.0\n",
    "    y_ = hypothesis(X,theta)\n",
    "    e = np.sum((y-y_)**2)\n",
    "    \n",
    "    return e/m\n",
    "    \n",
    "def gradient(X,y,theta):\n",
    "    \n",
    "    y_ = hypothesis(X,theta)\n",
    "    grad = np.dot(X.T,(y_ - y))\n",
    "    m = X.shape[0]\n",
    "    return grad/m\n",
    "\n",
    "def gradient_descent(X,y,learning_rate = 0.1,max_iters=300):\n",
    "    \n",
    "    n = X.shape[1]\n",
    "    theta = np.zeros((n,))\n",
    "    error_list = []\n",
    "    \n",
    "    for i in range(max_iters):\n",
    "        e = error(X,y,theta)\n",
    "        error_list.append(e)\n",
    "        \n",
    "        #Gradient descent\n",
    "        grad = gradient(X,y,theta)\n",
    "        theta = theta - learning_rate*grad\n",
    "        \n",
    "    return theta,error_list\n",
    "    \n"
   ]
  },
  {
   "cell_type": "code",
   "execution_count": 104,
   "metadata": {},
   "outputs": [
    {
     "output_type": "stream",
     "name": "stdout",
     "text": [
      "[ 4.99096674 29.68187118 92.66247759  8.28062089 44.76773522  2.51916121]\n"
     ]
    }
   ],
   "source": [
    "theta,error_list = gradient_descent(X_,Y)\n",
    "print(theta)"
   ]
  },
  {
   "cell_type": "code",
   "execution_count": 106,
   "metadata": {},
   "outputs": [],
   "source": [
    "y_ = []\n",
    "m = X.shape[0]\n",
    "for i in range(m):\n",
    "    pred = hypothesis(X_[i],theta)\n",
    "    y_.append(pred)\n",
    "y_ = np.array(y_)"
   ]
  },
  {
   "cell_type": "code",
   "execution_count": 107,
   "metadata": {},
   "outputs": [
    {
     "output_type": "stream",
     "name": "stdout",
     "text": [
      "[ 1.         -1.04438892 -0.65623157 -0.63009787  1.13407585 -0.4478742 ]\n"
     ]
    }
   ],
   "source": [
    "print(X_[17])"
   ]
  },
  {
   "cell_type": "code",
   "execution_count": 108,
   "metadata": {},
   "outputs": [],
   "source": [
    "def r2_score(y,y_):\n",
    "    num = np.sum((y-y_)**2)\n",
    "    denom = np.sum((y- y.mean())**2)\n",
    "    score = (1- num/denom)\n",
    "    return score*100"
   ]
  },
  {
   "cell_type": "code",
   "execution_count": 109,
   "metadata": {},
   "outputs": [
    {
     "output_type": "execute_result",
     "data": {
      "text/plain": [
       "96.60939669975616"
      ]
     },
     "metadata": {},
     "execution_count": 109
    }
   ],
   "source": [
    "r2_score(Y,y_)"
   ]
  },
  {
   "cell_type": "code",
   "execution_count": 113,
   "metadata": {},
   "outputs": [
    {
     "output_type": "stream",
     "name": "stdout",
     "text": [
      "-134.51792086480896\n"
     ]
    }
   ],
   "source": [
    "print(y_[5])"
   ]
  },
  {
   "cell_type": "code",
   "execution_count": 115,
   "metadata": {},
   "outputs": [],
   "source": [
    "df_test = pd.read_csv(\"./Datasets/Test.csv\")\n",
    "X_test = df_test.values"
   ]
  },
  {
   "cell_type": "code",
   "execution_count": 117,
   "metadata": {},
   "outputs": [
    {
     "output_type": "stream",
     "name": "stdout",
     "text": [
      "(400, 5)\n"
     ]
    }
   ],
   "source": [
    "print(X_test.shape)"
   ]
  },
  {
   "cell_type": "code",
   "execution_count": 124,
   "metadata": {},
   "outputs": [
    {
     "output_type": "stream",
     "name": "stdout",
     "text": [
      "[[ 1.00000000e+00  1.01525387e+00  2.07620944e+00 -2.66434820e-01\n  -2.41808820e+00 -9.80502790e-01]\n [ 1.00000000e+00 -3.75021204e-01  9.53184528e-01  6.26719138e-01\n   7.04405750e-01 -3.55489211e-01]\n [ 1.00000000e+00 -1.02445225e+00  9.62991107e-01 -4.07942004e-01\n  -1.86127383e+00  4.55201351e-01]\n ...\n [ 1.00000000e+00  5.54727647e-01  1.76824345e+00 -8.97787210e-01\n  -1.19366107e+00  3.40563374e-01]\n [ 1.00000000e+00 -1.62717246e+00  8.56470994e-01 -5.65729519e-04\n   6.29386649e-01  4.53382144e-01]\n [ 1.00000000e+00  1.39310499e-01  5.31597186e-01 -8.53107053e-01\n   3.16920076e-02  1.71489304e+00]]\n"
     ]
    }
   ],
   "source": [
    "ones_test = np.ones((X_test.shape[0], 1))\n",
    "X_test_ = np.hstack((ones_test, X_test))\n",
    "print(X_test_)"
   ]
  },
  {
   "cell_type": "code",
   "execution_count": 145,
   "metadata": {},
   "outputs": [],
   "source": [
    "y_test = []\n",
    "m = X_test.shape[0]\n",
    "for i in range(m):\n",
    "    pred = hypothesis(X_test_[i],theta)\n",
    "    y_test.append(pred)\n",
    "y_test = np.array(y_test)"
   ]
  },
  {
   "cell_type": "code",
   "execution_count": 146,
   "metadata": {},
   "outputs": [
    {
     "output_type": "stream",
     "name": "stdout",
     "text": [
      "(400,)\n"
     ]
    }
   ],
   "source": [
    "print(y_test.shape)"
   ]
  },
  {
   "cell_type": "code",
   "execution_count": 154,
   "metadata": {},
   "outputs": [],
   "source": [
    "df_sub = pd.DataFrame(y_test, columns=[\"target\"])"
   ]
  },
  {
   "cell_type": "code",
   "execution_count": 156,
   "metadata": {},
   "outputs": [],
   "source": [
    "df_sub.to_csv(\"Sample_Submission.csv\", index=True, index_label=\"Id\")"
   ]
  },
  {
   "cell_type": "code",
   "execution_count": 150,
   "metadata": {},
   "outputs": [
    {
     "output_type": "stream",
     "name": "stdout",
     "text": [
      "              0\n0    114.583689\n1    118.012815\n2    -21.739852\n3    -43.936899\n4    -95.914898\n..          ...\n395  -81.989000\n396 -186.032535\n397  125.292336\n398   65.369841\n399   57.059691\n\n[400 rows x 1 columns]\n"
     ]
    }
   ],
   "source": [
    "print(df_sub)"
   ]
  },
  {
   "cell_type": "code",
   "execution_count": null,
   "metadata": {},
   "outputs": [],
   "source": []
  }
 ]
}