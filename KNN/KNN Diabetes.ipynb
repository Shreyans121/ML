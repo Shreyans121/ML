{
 "cells": [
  {
   "cell_type": "code",
   "execution_count": 48,
   "metadata": {},
   "outputs": [],
   "source": [
    "import numpy as np\n",
    "import pandas as pd\n",
    "import matplotlib.pyplot as plt"
   ]
  },
  {
   "cell_type": "code",
   "execution_count": 49,
   "metadata": {},
   "outputs": [
    {
     "name": "stdout",
     "output_type": "stream",
     "text": [
      "(576, 8)\n",
      "(576,)\n"
     ]
    }
   ],
   "source": [
    "X_train = pd.read_csv(\"Diabetes_XTrain.csv\").values\n",
    "Y_train = pd.read_csv(\"Diabetes_YTrain.csv\").values\n",
    "X_test = pd.read_csv(\"Diabetes_Xtest.csv\").values\n",
    "Y_sample = pd.read_csv(\"sample_submission.csv\")\n",
    "Y_train = Y_train.reshape(576)\n",
    "print(X_train.shape)\n",
    "print(Y_train.shape)"
   ]
  },
  {
   "cell_type": "code",
   "execution_count": 50,
   "metadata": {},
   "outputs": [],
   "source": [
    "def dist(x1,x2):\n",
    "    return np.sqrt(sum((x1-x2)**2))\n",
    "\n",
    "def knn(X,Y,query,k=20):\n",
    "    vals = []\n",
    "    m = X.shape[0]\n",
    "    for i in range(m):\n",
    "        d = dist(query,X[i])\n",
    "        vals.append((d,Y[i]))\n",
    "        \n",
    "    vals = sorted(vals)\n",
    "    vals = vals[:k]\n",
    "\n",
    "    vals = np.array(vals)\n",
    "\n",
    "    new_vals = np.unique(vals[:,1],return_counts = True)\n",
    "    index = new_vals[1].argmax()\n",
    "    pred = int(new_vals[0][index])\n",
    "    return pred"
   ]
  },
  {
   "cell_type": "code",
   "execution_count": 51,
   "metadata": {},
   "outputs": [
    {
     "name": "stdout",
     "output_type": "stream",
     "text": [
      "[0, 0, 0, 0, 0, 0, 1, 0, 0, 0, 1, 0, 1, 0, 0, 0, 0, 1, 1, 1, 0, 0, 0, 0, 0, 0, 0, 0, 0, 0, 0, 0, 0, 0, 0, 0, 0, 0, 1, 0, 1, 0, 0, 0, 1, 0, 0, 1, 0, 1, 0, 1, 0, 0, 1, 0, 1, 0, 0, 0, 0, 0, 0, 0, 1, 0, 0, 0, 0, 0, 0, 0, 0, 0, 0, 0, 0, 0, 0, 0, 0, 0, 0, 0, 0, 0, 1, 1, 0, 0, 1, 1, 0, 0, 1, 0, 0, 0, 0, 0, 1, 1, 0, 0, 0, 1, 0, 1, 0, 0, 1, 0, 1, 0, 0, 0, 0, 1, 0, 0, 0, 0, 0, 1, 1, 1, 1, 0, 1, 0, 1, 1, 0, 0, 0, 0, 1, 1, 1, 0, 0, 1, 0, 1, 1, 0, 0, 1, 0, 0, 0, 0, 1, 0, 0, 1, 1, 1, 0, 1, 0, 0, 0, 0, 0, 0, 0, 0, 0, 0, 0, 1, 0, 0, 0, 0, 0, 0, 1, 1, 0, 0, 1, 0, 1, 0, 0, 0, 0, 1, 0, 0]\n",
      "     Outcome\n",
      "0          0\n",
      "1          0\n",
      "2          0\n",
      "3          0\n",
      "4          0\n",
      "5          0\n",
      "6          1\n",
      "7          0\n",
      "8          0\n",
      "9          0\n",
      "10         1\n",
      "11         0\n",
      "12         1\n",
      "13         0\n",
      "14         0\n",
      "15         0\n",
      "16         0\n",
      "17         1\n",
      "18         1\n",
      "19         1\n",
      "20         0\n",
      "21         0\n",
      "22         0\n",
      "23         0\n",
      "24         0\n",
      "25         0\n",
      "26         0\n",
      "27         0\n",
      "28         0\n",
      "29         0\n",
      "..       ...\n",
      "162        0\n",
      "163        0\n",
      "164        0\n",
      "165        0\n",
      "166        0\n",
      "167        0\n",
      "168        0\n",
      "169        0\n",
      "170        0\n",
      "171        1\n",
      "172        0\n",
      "173        0\n",
      "174        0\n",
      "175        0\n",
      "176        0\n",
      "177        0\n",
      "178        1\n",
      "179        1\n",
      "180        0\n",
      "181        0\n",
      "182        1\n",
      "183        0\n",
      "184        1\n",
      "185        0\n",
      "186        0\n",
      "187        0\n",
      "188        0\n",
      "189        1\n",
      "190        0\n",
      "191        0\n",
      "\n",
      "[192 rows x 1 columns]\n"
     ]
    }
   ],
   "source": [
    "predict = []\n",
    "for i in range(X_test.shape[0]):\n",
    "    predict.append(knn(X_train,Y_train,X_test[i]))\n",
    "print(predict)\n",
    "predict = pd.DataFrame({'Outcome':predict})\n",
    "print(predict)\n",
    "predict.to_csv('predict.csv',index = False)"
   ]
  },
  {
   "cell_type": "code",
   "execution_count": 52,
   "metadata": {},
   "outputs": [
    {
     "data": {
      "image/png": "[encoded data removed]",
      "text/plain": [
       "<Figure size 432x288 with 1 Axes>"
      ]
     },
     "metadata": {
      "needs_background": "light"
     },
     "output_type": "display_data"
    }
   ],
   "source": [
    "class_name = ['Without Diabetes','With Diabetes']\n",
    "x_values = [0,1]\n",
    "elements = np.unique(predict,return_counts = True)[1]\n",
    "plt.ylabel('Number of Elements')\n",
    "plt.xlabel('Class Name')\n",
    "plt.bar(x_values,elements,width=0.3,tick_label=class_name)\n",
    "plt.show()"
   ]
  }
 ],
 "metadata": {
  "kernelspec": {
   "display_name": "Python 3",
   "language": "python",
   "name": "python3"
  },
  "language_info": {
   "codemirror_mode": {
    "name": "ipython",
    "version": 3
   },
   "file_extension": ".py",
   "mimetype": "text/x-python",
   "name": "python",
   "nbconvert_exporter": "python",
   "pygments_lexer": "ipython3",
   "version": "3.7.3"
  }
 },
 "nbformat": 4,
 "nbformat_minor": 2
}
